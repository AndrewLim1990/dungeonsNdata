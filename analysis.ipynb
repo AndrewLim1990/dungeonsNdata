{
 "cells": [
  {
   "cell_type": "markdown",
   "metadata": {},
   "source": [
    "# Learning Analysis"
   ]
  },
  {
   "cell_type": "markdown",
   "metadata": {},
   "source": [
    "The purpose of this notebook is to document results from training"
   ]
  },
  {
   "cell_type": "markdown",
   "metadata": {},
   "source": [
    "## Preamble"
   ]
  },
  {
   "cell_type": "code",
   "execution_count": 194,
   "metadata": {},
   "outputs": [],
   "source": [
    "import pandas as pd\n",
    "import dill\n",
    "from collections import Counter\n",
    "from collections import defaultdict\n",
    "from matplotlib import pyplot as plt\n",
    "import dill\n",
    "import torch\n",
    "import numpy as np"
   ]
  },
  {
   "cell_type": "markdown",
   "metadata": {},
   "source": [
    "### Helper Functions"
   ]
  },
  {
   "cell_type": "code",
   "execution_count": 195,
   "metadata": {},
   "outputs": [],
   "source": [
    "def calc_win_percentage(winner_list, creatures):\n",
    "    total_games_played = len(winner_list)\n",
    "    counts = Counter(winner_list)\n",
    "    win_percentages = {creature: num_wins/total_games_played for creature, num_wins in counts.items()}\n",
    "    for creature in creatures:\n",
    "        if creature not in win_percentages.keys():\n",
    "            win_percentages[creature] = 0\n",
    "    return win_percentages\n",
    "\n",
    "def report_actions(state):\n",
    "    action_names = [\n",
    "        \"end\",\n",
    "        \"left\",\n",
    "        \"right\",\n",
    "        \"up\",\n",
    "        \"down\",\n",
    "        \"shot\",\n",
    "    ]\n",
    "\n",
    "    dist, value = policy_net(state)\n",
    "    action_probs = dist.probs.data.numpy()[0]\n",
    "\n",
    "    actions = list(zip(action_names, action_probs))\n",
    "    for an, a in actions:\n",
    "        print(\"{}: \\t{}\".format(an, a))\n",
    "    print(\"-----{}-----\".format(\n",
    "        action_names[int(np.argmax(action_probs))]\n",
    "    ))\n"
   ]
  },
  {
   "cell_type": "markdown",
   "metadata": {},
   "source": [
    "### Load Data"
   ]
  },
  {
   "cell_type": "markdown",
   "metadata": {},
   "source": [
    "## Method Analysis"
   ]
  },
  {
   "cell_type": "code",
   "execution_count": 484,
   "metadata": {},
   "outputs": [
    {
     "name": "stdout",
     "output_type": "stream",
     "text": [
      "Number of games played: 414830\n"
     ]
    },
    {
     "data": {
      "image/png": "[encoded data removed]",
      "text/plain": [
       "<Figure size 432x288 with 1 Axes>"
      ]
     },
     "metadata": {
      "needs_background": "light"
     },
     "output_type": "display_data"
    }
   ],
   "source": [
    "model_name = 'PPO'\n",
    "winner_list = dill.load(open(\"results/winner_list_{}.pickle\".format(model_name), \"rb\"))\n",
    "reward_list = dill.load(open(\"results/reward_list_{}.pickle\".format(model_name), \"rb\"))\n",
    "\n",
    "batch_size = 1024\n",
    "win_pcts = defaultdict(list)\n",
    "avg_rewards = list()\n",
    "\n",
    "creatures = [\"Leotris\"]\n",
    "\n",
    "print(\"Number of games played: {}\".format(len(winner_list)))\n",
    "\n",
    "# Graph win percentage:\n",
    "for i in range(0, len(winner_list) - batch_size):\n",
    "    batch_winner_list = winner_list[i:(i+batch_size)]\n",
    "    win_pct = calc_win_percentage(batch_winner_list, creatures=creatures)\n",
    "    for creature, batch_win_pct in win_pct.items():\n",
    "        win_pcts[creature].append(batch_win_pct)\n",
    "for creature in creatures:\n",
    "    plt.plot(range(len(win_pcts[creature])), win_pcts[creature], label=creature)\n",
    "plt.title(\"{} Game Win Percentage ({})\".format(batch_size, model_name))\n",
    "plt.ylabel(\"Win Percentage (%)\")\n",
    "plt.xlabel(\"{} Game Set\".format(batch_size))\n",
    "plt.legend()\n",
    "plt.savefig('results/{}.png'.format(model_name))\n",
    "plt.show()\n",
    "\n",
    "# # Graph reward:\n",
    "# for i in range(0, len(reward_list) - batch_size):\n",
    "#     batch_reward_list = reward_list[i:(i+batch_size)]\n",
    "#     avg_reward = np.mean(batch_reward_list)\n",
    "#     avg_rewards.append(avg_reward)\n",
    "    \n",
    "# plt.plot(range(len(avg_rewards)), avg_rewards)\n",
    "# plt.title(\"Average Rewards\")\n",
    "# plt.ylabel(\"Average Reward\")\n",
    "# plt.xlabel(\"{} Game Set\".format(batch_size))\n",
    "# plt.show()"
   ]
  },
  {
   "cell_type": "markdown",
   "metadata": {},
   "source": [
    "## Scratch"
   ]
  },
  {
   "cell_type": "code",
   "execution_count": 482,
   "metadata": {},
   "outputs": [
    {
     "name": "stdout",
     "output_type": "stream",
     "text": [
      "end: \t2.6366340534877963e-05\n",
      "left: \t4.066542260261485e-06\n",
      "right: \t6.880862315483682e-07\n",
      "up: \t1.3578727703134064e-05\n",
      "down: \t2.645571612447384e-06\n",
      "shot: \t0.9999526739120483\n",
      "-----shot-----\n",
      "\n",
      "end: \t0.9854883551597595\n",
      "left: \t0.006050706375390291\n",
      "right: \t0.0009398793336004019\n",
      "up: \t0.006608391646295786\n",
      "down: \t0.0005978830740787089\n",
      "shot: \t0.00031477451557293534\n",
      "-----end-----\n",
      "\n"
     ]
    }
   ],
   "source": [
    "policy_net = dill.load(open(\"results/model_{}.pickle\".format(model_name), \"rb\"))\n",
    "state = torch.tensor([[\n",
    "    1.0, # hit points\n",
    "    1.0, # enemy hit points\n",
    "    0.1, # x pos\n",
    "    0.2, # y pos\n",
    "    0.2, # enemy x\n",
    "    0.2, # enemy y\n",
    "    0.0, # attacks used\n",
    "    \n",
    "    1.0, # movement remaining\n",
    "    0.0, # number steps\n",
    "]])\n",
    "\n",
    "report_actions(state)\n",
    "print()\n",
    "\n",
    "state = torch.tensor([[\n",
    "    1.0, # hit points\n",
    "    1.0, # enemy hit points\n",
    "    0.1, # x pos\n",
    "    0.2, # y pos\n",
    "    0.2, # enemy x\n",
    "    0.2, # enemy y\n",
    "    1.0, # attacks used\n",
    "    1.0, # movement remaining\n",
    "    0.0, # number steps\n",
    "]])\n",
    "\n",
    "report_actions(state)\n",
    "print()\n",
    "\n",
    "# for param in policy_net.actor_layer.parameters():\n",
    "#     print(param)"
   ]
  },
  {
   "cell_type": "code",
   "execution_count": 483,
   "metadata": {},
   "outputs": [
    {
     "data": {
      "text/plain": [
       "array([0.03722391, 0.00015854, 0.00044599, 0.05114432, 0.30891045,\n",
       "       0.60211678])"
      ]
     },
     "execution_count": 483,
     "metadata": {},
     "output_type": "execute_result"
    }
   ],
   "source": [
    "np. set_printoptions(suppress=True)\n",
    "a = np.array([152.7509, 147.2922, 148.3265, 153.0686, 154.8670, 155.5344])\n",
    "np.exp(a) / np.sum(np.exp(a))"
   ]
  },
  {
   "cell_type": "code",
   "execution_count": null,
   "metadata": {},
   "outputs": [],
   "source": []
  }
 ],
 "metadata": {
  "kernelspec": {
   "display_name": "Python 3",
   "language": "python",
   "name": "python3"
  },
  "language_info": {
   "codemirror_mode": {
    "name": "ipython",
    "version": 3
   },
   "file_extension": ".py",
   "mimetype": "text/x-python",
   "name": "python",
   "nbconvert_exporter": "python",
   "pygments_lexer": "ipython3",
   "version": "3.7.0"
  }
 },
 "nbformat": 4,
 "nbformat_minor": 4
}
